{
 "cells": [
  {
   "cell_type": "code",
   "execution_count": 1,
   "id": "d97abf68",
   "metadata": {},
   "outputs": [
    {
     "name": "stdout",
     "output_type": "stream",
     "text": [
      "Intel MKL WARNING: Support of Intel(R) Streaming SIMD Extensions 4.2 (Intel(R) SSE4.2) enabled only processors has been deprecated. Intel oneAPI Math Kernel Library 2025.0 will require Intel(R) Advanced Vector Extensions (Intel(R) AVX) instructions.\n",
      "Intel MKL WARNING: Support of Intel(R) Streaming SIMD Extensions 4.2 (Intel(R) SSE4.2) enabled only processors has been deprecated. Intel oneAPI Math Kernel Library 2025.0 will require Intel(R) Advanced Vector Extensions (Intel(R) AVX) instructions.\n"
     ]
    }
   ],
   "source": [
    "from typing import Tuple\n",
    "import os\n",
    "import numpy as np\n",
    "from sklearn.model_selection import train_test_split\n",
    "from sklearn.svm import SVC\n",
    "from sklearn.metrics import accuracy_score, classification_report\n",
    "from sklearn.preprocessing import LabelEncoder\n",
    "from joblib import dump, load\n",
    "import os\n"
   ]
  },
  {
   "cell_type": "code",
   "execution_count": 8,
   "id": "2fb06d2c",
   "metadata": {},
   "outputs": [],
   "source": [
    "# In this code below I made a function to load in the data\n",
    "def load_and_split_data(data_folder: str, test_size: float = 0.2, random_state: int = 42) -> Tuple[np.ndarray, np.ndarray, np.ndarray, np.ndarray]:\n",
    "    \"\"\"\n",
    "    Load pose data from a specified folder and split it into training and testing sets.\n",
    "\n",
    "    Parameters:\n",
    "    - data_folder (str): Path to the folder containing pose data.\n",
    "    - test_size (float, optional): The proportion of the dataset to include in the test split.\n",
    "    - random_state (int, optional): Seed used by the random number generator for reproducibility.\n",
    "\n",
    "    Returns:\n",
    "    - Tuple[np.ndarray, np.ndarray, np.ndarray, np.ndarray]: \n",
    "      (X_train, X_test, y_train, y_test)\n",
    "    \"\"\"\n",
    "    data = []\n",
    "    labels = []\n",
    "\n",
    "    # Here I loop through each subfolder\n",
    "    for folder in os.listdir(data_folder):\n",
    "        folder_path = os.path.join(data_folder, folder)\n",
    "        \n",
    "        # Here I am making sure that the current item in the directory is a folder\n",
    "        if os.path.isdir(folder_path):\n",
    "            # Looping through each file in the folder\n",
    "            for file in os.listdir(folder_path):\n",
    "                file_path = os.path.join(folder_path, file)\n",
    "                \n",
    "                # Checking if the file is a numpy file\n",
    "                if file.endswith('.npy'):\n",
    "                    # Loading in the numpy array from the file, allowing pickles\n",
    "                    try:\n",
    "                        pose_data = np.load(file_path, allow_pickle=True)\n",
    "                        \n",
    "                        # In this code below I used an if statement to \n",
    "                        # Check if the loaded data is a valid numpy array\n",
    "                        if isinstance(pose_data, np.ndarray):\n",
    "                            # In the code line below I apppend the data and corresponding label\n",
    "                            data.append(pose_data)\n",
    "                            labels.append(folder)\n",
    "                        else:\n",
    "                            print(f\"Invalid numpy array in file: {file_path}\")\n",
    "                    except Exception as e:\n",
    "                        print(f\"Error loading file {file_path}: {str(e)}\")\n",
    "\n",
    "    # Convert lists to numpy arrays\n",
    "    X = np.array(data)\n",
    "    y = np.array(labels)\n",
    "\n",
    "    # Split the data into training and testing sets\n",
    "    X_train, X_test, y_train, y_test = train_test_split(X, y, test_size=test_size, random_state=random_state)\n",
    "\n",
    "    return X_train, X_test, y_train, y_test\n"
   ]
  },
  {
   "cell_type": "code",
   "execution_count": 3,
   "id": "c273de3f",
   "metadata": {},
   "outputs": [],
   "source": [
    "# splitting the data into train and test \n",
    "X_train, X_test, y_train, y_test = load_and_split_data('/Users/kecichilala/Desktop/actions', test_size=0.2, random_state=42)\n"
   ]
  },
  {
   "cell_type": "code",
   "execution_count": 4,
   "id": "5764611c",
   "metadata": {},
   "outputs": [
    {
     "data": {
      "text/plain": [
       "array([[[ 0.01727152, -0.64834183, -0.16870694,  0.99104768],\n",
       "        [ 0.02348802, -0.68450934, -0.15438059,  0.98798066],\n",
       "        [ 0.02408011, -0.68517637, -0.15385909,  0.98862737],\n",
       "        ...,\n",
       "        [-0.09192229,  0.75708461,  0.22625235,  0.73771971],\n",
       "        [ 0.09876573,  0.85107976,  0.03616261,  0.98374546],\n",
       "        [-0.11502071,  0.84598893,  0.11303246,  0.97059816]],\n",
       "\n",
       "       [[ 0.09178978, -0.58637238, -0.30197707,  0.99975485],\n",
       "        [ 0.09928286, -0.62373847, -0.28285247,  0.99952638],\n",
       "        [ 0.09971283, -0.62438381, -0.28197637,  0.99944645],\n",
       "        ...,\n",
       "        [-0.38175559,  0.52911276,  0.08904778,  0.95360029],\n",
       "        [ 0.43095887,  0.62348497,  0.01781835,  0.9688006 ],\n",
       "        [-0.46991715,  0.59813875,  0.00688588,  0.98351359]],\n",
       "\n",
       "       [[-0.0356063 , -0.57199425, -0.37085268,  0.99962008],\n",
       "        [-0.03796387, -0.60769457, -0.36410475,  0.99891007],\n",
       "        [-0.03753307, -0.60822988, -0.36324757,  0.99881208],\n",
       "        ...,\n",
       "        [ 0.01608677,  0.70191258,  0.31905064,  0.64974934],\n",
       "        [ 0.10018406,  0.39521956,  0.41819462,  0.22850916],\n",
       "        [ 0.01083646,  0.80120289,  0.26204664,  0.80587417]],\n",
       "\n",
       "       ...,\n",
       "\n",
       "       [[ 0.04077381, -0.63486838, -0.33180472,  0.99900144],\n",
       "        [ 0.0325164 , -0.66965598, -0.31760874,  0.99885476],\n",
       "        [ 0.03302565, -0.67042297, -0.31688112,  0.99863142],\n",
       "        ...,\n",
       "        [-0.28511259,  0.67772019,  0.18059859,  0.93561852],\n",
       "        [ 0.35096318,  0.76486582,  0.18237963,  0.9713189 ],\n",
       "        [-0.32801735,  0.75030708,  0.08707748,  0.98291576]],\n",
       "\n",
       "       [[ 0.08655514, -0.5663051 , -0.20818457,  0.99999058],\n",
       "        [ 0.08458257, -0.60589039, -0.19559117,  0.99997878],\n",
       "        [ 0.08504682, -0.60674495, -0.19504322,  0.99997818],\n",
       "        ...,\n",
       "        [-0.01227702,  0.69985509,  0.38509801,  0.84793693],\n",
       "        [ 0.32871029,  0.88004446, -0.20313565,  0.99741238],\n",
       "        [-0.04803715,  0.78464037,  0.32593951,  0.97416097]],\n",
       "\n",
       "       [[-0.10370079, -0.55402911, -0.37238005,  0.9997521 ],\n",
       "        [-0.10357347, -0.5870803 , -0.35643891,  0.99965692],\n",
       "        [-0.10347746, -0.58783126, -0.35538739,  0.99962914],\n",
       "        ...,\n",
       "        [ 0.05440492,  0.718391  ,  0.09114866,  0.86519063],\n",
       "        [ 0.14958197,  0.56687635, -0.06863533,  0.93634605],\n",
       "        [ 0.03585652,  0.81298745,  0.00145427,  0.94004518]]])"
      ]
     },
     "execution_count": 4,
     "metadata": {},
     "output_type": "execute_result"
    }
   ],
   "source": [
    "X_train"
   ]
  },
  {
   "cell_type": "code",
   "execution_count": 5,
   "id": "a8c85baa",
   "metadata": {},
   "outputs": [
    {
     "name": "stdout",
     "output_type": "stream",
     "text": [
      "Accuracy: 1.00\n",
      "Classification Report:\n",
      "                      precision    recall  f1-score   support\n",
      "\n",
      "        action_down       1.00      1.00      1.00       253\n",
      "      action_inside       1.00      1.00      1.00       514\n",
      "         action_new       1.00      1.00      1.00       397\n",
      "     action_outside       1.00      1.00      1.00       284\n",
      "action_remove_block       1.00      1.00      1.00       417\n",
      "action_select_block       1.00      1.00      1.00       519\n",
      "      action_switch       1.00      1.00      1.00       613\n",
      "          action_up       1.00      1.00      1.00       577\n",
      "   block_events_ran       1.00      1.00      1.00       475\n",
      "   category_control       1.00      1.00      1.00       427\n",
      "    category_events       1.00      1.00      1.00       373\n",
      "     category_looks       0.99      1.00      1.00       262\n",
      "    category_motion       1.00      1.00      1.00       378\n",
      "     category_sound       1.00      1.00      1.00       399\n",
      "              dummy       1.00      0.98      0.99       409\n",
      "      select_avatar       1.00      1.00      1.00       338\n",
      "    select_backdrop       1.00      1.00      1.00       371\n",
      "\n",
      "           accuracy                           1.00      7006\n",
      "          macro avg       1.00      1.00      1.00      7006\n",
      "       weighted avg       1.00      1.00      1.00      7006\n",
      "\n"
     ]
    }
   ],
   "source": [
    "# Flatten the 3D arrays to 2D for SVM\n",
    "# Flattening the 3D arrays to 2D for SVM simplifies the input data structure,\n",
    "# converting the spatial information of poses into a format compatible with\n",
    "# linear SVM. This approach treats each key point's coordinate as an independent feature.\n",
    "X_train_flatten = X_train.reshape(X_train.shape[0], -1)\n",
    "X_test_flatten = X_test.reshape(X_test.shape[0], -1)\n",
    "\n",
    "# Encoding class labels into numerical values is essential for machine learning models,\n",
    "# allowing algorithms like SVM to work with categorical data, as they require numerical labels.\n",
    "# The LabelEncoder from scikit-learn is used to transform class labels into a format suitable for training.\n",
    "label_encoder = LabelEncoder()\n",
    "y_train_encoded = label_encoder.fit_transform(y_train)\n",
    "y_test_encoded = label_encoder.transform(y_test)\n",
    "\n",
    "# Here I initialize SVM model\n",
    "svm_model = SVC(kernel='linear', C=1.0, random_state=42)\n",
    "\n",
    "# In this line of code I train the model\n",
    "svm_model.fit(X_train_flatten, y_train_encoded)\n",
    "\n",
    "# Now I am making predictions the test set\n",
    "predictions = svm_model.predict(X_test_flatten)\n",
    "\n",
    "# Decode numerical predictions to original class labels\n",
    "decoded_predictions = label_encoder.inverse_transform(predictions)\n",
    "\n",
    "# Evaluate the model\n",
    "accuracy = accuracy_score(y_test, decoded_predictions)\n",
    "report = classification_report(y_test, decoded_predictions)\n",
    "\n",
    "print(f\"Accuracy: {accuracy:.2f}\")\n",
    "print(\"Classification Report:\\n\", report)\n"
   ]
  },
  {
   "cell_type": "code",
   "execution_count": 6,
   "id": "5b7f0e97",
   "metadata": {},
   "outputs": [
    {
     "name": "stdout",
     "output_type": "stream",
     "text": [
      "Accuracy on Test Data: 1.00\n",
      "Classification Report on Test Data:\n",
      "                      precision    recall  f1-score   support\n",
      "\n",
      "        action_down       1.00      1.00      1.00       253\n",
      "      action_inside       1.00      1.00      1.00       514\n",
      "         action_new       1.00      1.00      1.00       397\n",
      "     action_outside       1.00      1.00      1.00       284\n",
      "action_remove_block       1.00      1.00      1.00       417\n",
      "action_select_block       1.00      1.00      1.00       519\n",
      "      action_switch       1.00      1.00      1.00       613\n",
      "          action_up       1.00      1.00      1.00       577\n",
      "   block_events_ran       1.00      1.00      1.00       475\n",
      "   category_control       1.00      1.00      1.00       427\n",
      "    category_events       1.00      1.00      1.00       373\n",
      "     category_looks       0.99      1.00      1.00       262\n",
      "    category_motion       1.00      1.00      1.00       378\n",
      "     category_sound       1.00      1.00      1.00       399\n",
      "              dummy       1.00      0.98      0.99       409\n",
      "      select_avatar       1.00      1.00      1.00       338\n",
      "    select_backdrop       1.00      1.00      1.00       371\n",
      "\n",
      "           accuracy                           1.00      7006\n",
      "          macro avg       1.00      1.00      1.00      7006\n",
      "       weighted avg       1.00      1.00      1.00      7006\n",
      "\n"
     ]
    }
   ],
   "source": [
    "# Flatten the 3D arrays to 2D for compatibility with SVM\n",
    "# Flattening is necessary as SVM expects 2D input, treating each key point's coordinate as a separate feature.\n",
    "\n",
    "X_test_flatten = X_test.reshape(X_test.shape[0], -1)\n",
    "\n",
    "# Encode the class labels to numerical values for model compatibility\n",
    "# Numerical encoding is crucial for SVM to work with categorical data, as it requires numerical labels for training.\n",
    "y_test_encoded = label_encoder.transform(y_test)\n",
    "\n",
    "# # Make predictions on the test set using the trained SVM model\n",
    "# Using the trained SVM model to predict the labels of the test data.\n",
    "test_predictions = svm_model.predict(X_test_flatten)\n",
    "\n",
    "# Decode predictions\n",
    "decoded_test_predictions = label_encoder.inverse_transform(test_predictions)\n",
    "\n",
    "# Evaluate the model on the test data\n",
    "accuracy_test_data = accuracy_score(y_test, decoded_test_predictions)\n",
    "report_test_data = classification_report(y_test, decoded_test_predictions)\n",
    "\n",
    "print(f\"Accuracy on Test Data: {accuracy_test_data:.2f}\")\n",
    "print(\"Classification Report on Test Data:\\n\", report_test_data)\n"
   ]
  },
  {
   "cell_type": "code",
   "execution_count": 7,
   "id": "bebdabb7",
   "metadata": {},
   "outputs": [
    {
     "name": "stdout",
     "output_type": "stream",
     "text": [
      "Model saved at: /Users/kecichilala/Desktop/body_scatch_svm_model.joblib\n"
     ]
    }
   ],
   "source": [
    "# Saving the trained SVM model on my desktop\n",
    "desktop_path = os.path.join(os.path.expanduser('~'), 'Desktop')\n",
    "model_filename = os.path.join(desktop_path, 'body_scatch_svm_model.joblib')\n",
    "dump(svm_model, model_filename)\n",
    "\n",
    "# Print the path to the saved model\n",
    "print(f\"Model saved at: {model_filename}\")\n"
   ]
  }
 ],
 "metadata": {
  "kernelspec": {
   "display_name": "Python 3 (ipykernel)",
   "language": "python",
   "name": "python3"
  },
  "language_info": {
   "codemirror_mode": {
    "name": "ipython",
    "version": 3
   },
   "file_extension": ".py",
   "mimetype": "text/x-python",
   "name": "python",
   "nbconvert_exporter": "python",
   "pygments_lexer": "ipython3",
   "version": "3.10.13"
  }
 },
 "nbformat": 4,
 "nbformat_minor": 5
}
